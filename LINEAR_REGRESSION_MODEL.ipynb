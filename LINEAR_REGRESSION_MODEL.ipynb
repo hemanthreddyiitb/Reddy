{
 "cells": [
  {
   "cell_type": "code",
   "execution_count": 33,
   "metadata": {},
   "outputs": [],
   "source": [
    "from sklearn import linear_model\n",
    "import numpy as np\n",
    "import stock_data "
   ]
  },
  {
   "cell_type": "markdown",
   "metadata": {},
   "source": [
    "# Building a linear Model\n",
    "## Here x is feature dataset, y is label datat set & the return is linear regression model"
   ]
  },
  {
   "cell_type": "code",
   "execution_count": 27,
   "metadata": {},
   "outputs": [],
   "source": [
    "def build_model(X, y):\n",
    "    linear_mod = linear_model.LinearRegression()  # defining the linear regression model\n",
    "    X = np.reshape(X, (X.shape[0], 1))\n",
    "    y = np.reshape(y, (y.shape[0], 1))\n",
    "    linear_mod.fit(X, y)  # fitting the data points in the model\n",
    "\n",
    "    return linear_mod\n"
   ]
  },
  {
   "cell_type": "code",
   "execution_count": 28,
   "metadata": {},
   "outputs": [],
   "source": [
    "def predict_prices(model, x, label_range):\n",
    "    x = np.reshape(x, (x.shape[0], 1))\n",
    "    predicted_price = model.predict(x)\n",
    "    predictions_rescaled, re_range = sd.scale_range(predicted_price, input_range=[-1.0, 1.0], target_range=label_range)\n",
    "\n",
    "    return predictions_rescaled.flatten()\n"
   ]
  }
 ],
 "metadata": {
  "kernelspec": {
   "display_name": "Python 3",
   "language": "python",
   "name": "python3"
  },
  "language_info": {
   "codemirror_mode": {
    "name": "ipython",
    "version": 3
   },
   "file_extension": ".py",
   "mimetype": "text/x-python",
   "name": "python",
   "nbconvert_exporter": "python",
   "pygments_lexer": "ipython3",
   "version": "3.9.0"
  }
 },
 "nbformat": 4,
 "nbformat_minor": 4
}
